{
 "cells": [
  {
   "cell_type": "code",
   "execution_count": 1,
   "id": "42b85c02",
   "metadata": {},
   "outputs": [],
   "source": [
    "import matplotlib.pyplot as pl\n",
    "import pandas as pd\n",
    "import numpy as np"
   ]
  },
  {
   "cell_type": "code",
   "execution_count": null,
   "id": "f62ae607",
   "metadata": {},
   "outputs": [],
   "source": [
    "x_train = np.array([1,2])\n",
    "y_train = np.array([300,500])"
   ]
  },
  {
   "attachments": {
    "image.png": {
     "image/png": "[encoded data removed]"
    }
   },
   "cell_type": "markdown",
   "id": "5ddf09c2",
   "metadata": {},
   "source": [
    "![image.png](attachment:image.png)\n",
    "Cost Function"
   ]
  },
  {
   "cell_type": "code",
   "execution_count": null,
   "id": "3eddbfa4",
   "metadata": {},
   "outputs": [],
   "source": [
    "def compute_cost(x,y,w,b):\n",
    "    m = x.shape[0]\n",
    "    cost = 0\n",
    "    for i in range(m):\n",
    "        f_wb = w*x[i] + b\n",
    "        cost += (f_wb - y[i])**2\n",
    "\n",
    "    return cost/(2*m)"
   ]
  },
  {
   "attachments": {
    "image.png": {
     "image/png": "[encoded data removed]"
    }
   },
   "cell_type": "markdown",
   "id": "838bb851",
   "metadata": {},
   "source": [
    "\n",
    "![image.png](attachment:image.png)\n",
    "Gradient Descent"
   ]
  },
  {
   "cell_type": "code",
   "execution_count": null,
   "id": "61f7d170",
   "metadata": {},
   "outputs": [],
   "source": [
    "def compute_gradient(x,y,w,b):\n",
    "    m = x.shape[0]\n",
    "    dw = 0\n",
    "    db = 0\n",
    "    for i in range(m):\n",
    "        f_wb = w*x[i] + b\n",
    "        db += (f_wb - y[i])*x[i]\n",
    "        dw += (f_wb - y[i])\n",
    "\n",
    "    return db/m , dw/m"
   ]
  },
  {
   "cell_type": "code",
   "execution_count": null,
   "id": "653ea3ae",
   "metadata": {},
   "outputs": [],
   "source": [
    "def gradient_descent(x,y,w,b,alpha,compute_cost,compute_gradient,num_iters):\n",
    "    cost_history = []\n",
    "    for i in range(num_iters):\n",
    "        db, dw = compute_gradient(x,y,w,b)\n",
    "        b = b - alpha*db\n",
    "        w = w - alpha*dw\n",
    "        cost = compute_cost(x,y,w,b)\n",
    "        cost_history.append(cost)\n",
    "\n",
    "        if i%100 == 0:\n",
    "            print(f\"Iteration {i:4}: Cost {cost:.2f}  \")\n",
    "    return w,b,cost_history"
   ]
  }
 ],
 "metadata": {
  "kernelspec": {
   "display_name": "Python 3",
   "language": "python",
   "name": "python3"
  },
  "language_info": {
   "codemirror_mode": {
    "name": "ipython",
    "version": 3
   },
   "file_extension": ".py",
   "mimetype": "text/x-python",
   "name": "python",
   "nbconvert_exporter": "python",
   "pygments_lexer": "ipython3",
   "version": "3.12.3"
  }
 },
 "nbformat": 4,
 "nbformat_minor": 5
}
